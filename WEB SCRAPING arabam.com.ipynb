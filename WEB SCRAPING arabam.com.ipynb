{
 "cells": [
  {
   "cell_type": "code",
   "execution_count": 1,
   "metadata": {},
   "outputs": [],
   "source": [
    "import pandas as pd\n",
    "\n",
    "import requests\n",
    "\n",
    "from bs4 import BeautifulSoup\n",
    "\n",
    "url=requests.get(\"https://www.arabam.com/\")"
   ]
  },
  {
   "cell_type": "code",
   "execution_count": 2,
   "metadata": {},
   "outputs": [],
   "source": [
    "soup=BeautifulSoup(url.content,\"html.parser\")"
   ]
  },
  {
   "cell_type": "code",
   "execution_count": 3,
   "metadata": {
    "collapsed": true
   },
   "outputs": [
    {
     "data": {
      "text/plain": [
       "\"  arabam.com: 2. El ve 0 Km Satılık Araç İlanları Platformu              arabam.com\\xa0 Uygulamada Aç İhale araçları şimdi yayında! Hemen inceleyin kar etme fırsatını kaçırmayın!Araçları İncele   Lütfen bekleyiniz...   Trink sat!Teklif AlRandevularımı YönetAraç AlKategoriler Otomobil Arazi, SUV, Pick-up Motosiklet Minivan & Panelvan Ticari Araç Kiralık Araçlar Hasarlı Araçlar Traktör Tarım & İş Makineleri Klasik Araçlar Elektrikli Araçlar ATV & UTV Karavan Engelli Aracı Modifiyeli Arabalar Kasa TipleriSedanHatchbackStation WagonSuv / Pick-upCoupeCabrioVan / PanelvanMinibüsTüm 2. El İlanlarBana Araç ÖnerArabam Kaç Para?Sahibinden 2. El İlanlarGaleriler0 Km AraçlarMarkalarAraç SatTrink sat!Ücretsiz İlan VerTurbolarArabam Kaç Para?HizmetlerimizArabam Kaç Para?Tramer Hasar SorgusuTurbolarOtomobil Terimleri SözlüğüKampanyalarımızAutoclub Araç Temizliği Paketiarabam BlogBlog AnasayfaHaberlerTestlerİncelemeOtomobille YaşamDanışman         BildirimlerYeni bildiriminiz bulunmamaktadır.Bildirimleriniz yükleniyor...Tümünü okundu olarak işaretle  Giriş Yap  /  Üye Ol    Panelimİhale İşlemleriArabam Kaç Para Premiumİlanlarım Mesajlarım x Turbo HatHasar SorgulamaMesleki Yeterlilik BelgesiTurbolarımFavori İlanlarımFavori AramalarımHasar SorgulamaProfil & AyarlarÇıkış   Ücretsiz İlan Ver Ücretsiz İlan Ver2 dakikada hızlıca ilan verİlanın hızlıca onaylansın5 milyon alıcıya ulaşÜcretsiz İlan VerTrink sat!Araç bilgilerini gir, teklifimizi görÜcretsiz ekspertiz randevunu alGüvenle ve zahmetsizce bize sat1 saat içinde paran cebindeTrink sat!   \\n\\n\\n Son 24 Saat\\xa0/\\xa048 SaatAcil İlanlarFiyatı Düşenler Tüm İlanlar(166.476) Otomobil(116.612) Arazi, SUV, Pick-up(13.890) Motosiklet(2.097) Minivan & Panelvan(21.820) Ticari Araç(8.700) Kiralık Araçlar(579) Hasarlı Araçlar(406) Traktör(1.050) Tarım & İş Makineleri(366) Klasik Araçlar(284) Elektrikli Araçlar(293) ATV & UTV(178) Karavan(143) Engelli Aracı(22) Modifiyeli Arabalar(36)      Trink sat! Aracını değerinde ve anında biz alıyoruz, 1 saat içinde paran cebinde! Fiyat Teklifi AlArabam Kaç Para?Arabamı en son kaça satarım? İstediğim arabayı en iyi kaçtan alırım?Hemen Öğren0 Km Araçlar0 km araç özelliklerini ve fiyat listesini inceleyebilirsiniz.Detaylı İnceleBana Araç ÖnerHangi aracı alacağını bilmiyor musun? Hemen Başla Vitrin Tüm Vitrini Gör 2.EL ARABA VİTRİN İLANLARI   7 yaş ve 150.00 km’ye kadar Volvo Selekt Garantisi ile seninle!Volvo Selekt Garantisi ile hayalini kurduğun Volvo!Volvo Selekt İlanlarını Gör   2.000 km ya da 1 ay sonra ücretsiz kontrolDeneme sürüşü imkanıBürokrasiye yer yok!Estetik hizmetiTüm İlanları Görüntüle    Balıkesir2015 Toyota Corolla 1.4 D-4D Premium  179.000 TL      Antalya2016 Volkswagen Golf 1.6 TDi BlueMotio...  225.500 TL      Samsun2018 Volvo V40 1.5 T3 Inscription  308.000 TL      İzmir1997 Ford Mondeo 2.0 GLX  46.500 TL      Burdur2012 Hyundai Accent Blue 1.6 CRDI Biz  117.000 TL      Kocaeli2008 Renault Clio 1.5 dCi Authentique  77.000 TL      Hatay2013 Fiat Doblo Combi 1.6 Multijet Pre...  99.000 TL      İstanbul2021 Kuba Çita 100R Gold  9.697 TL      Karabük2003 Volkswagen Golf 1.6 Pacific  115.000 TL      Samsun2018 Seat Leon 1.6 TDI Style  198.500 TL      Ankara2018 Mercedes - Benz C 180 AMG 9G-Tron...  557.500 TL      İstanbul2020 Audi A3 Sedan 1.5 TFSI Sport Line  415.000 TL      İstanbul2018 Audi A5 Sportback 1.4 TFSI  645.000 TL      Ankara2018 BMW 3 Serisi 320d xDrive Premium ...  447.500 TL      Adana2012 Jeep Grand Cherokee 3.0 CRD Limit...  510.000 TL      Muğla2005 Renault Kangoo 1.9 D  37.500 TL      Sizin İçin Önerilenler  Test Sürüşleri Tüm Sürüşler    Fiat Egea Cross Test Sürüş İzlenimleri  2021 Fiat Egea Cross sonunda sahnede! Fiat Egea Cross hakkındaki tüm bilmeniz gerekenlerse arabam.com/blog adresinde.\\n    Volkswagen Golf 8 Test Sürüş İzlenimleri  Otomotiv duayeni Murat Tosun ile birlikte otomobil dünyasının yıldızı Volkswagen Golf 8 Test Sürüşüne çıktık. İşte ayrıntılar.\\n    Ford Focus Sedan 1.5L EcoBlue Sürüş İzlenimleri  Dizel motorlu araçların hayatımızdan hızlı bir şekilde çıktığı şu günlerde Ford Focus Sedan dizel otomatik kompakt sedan sınıfında yıldız gibi parlıyor.\\n    Suzuki SX4 S Cross Hibrit Sürüş İzlenimleri  Hibrit modeller dizel motor katili olarak biliniyor. Şimdi de SUV sınıfına Suzuki tarafından SX4 S-Cross Hibrit geldi. İyi ki geldi. Ayrıntılar arabam.com/blog’ta!\\n    Haberler Tüm Haberler   Geçen Haftanın En Çok Tıklanan 10 İlanı En çok tıklanan ikinci el arabalar hangileri? En çok hangi ikinci el araç ilanları ilgi görüyor.\\n   Dünyada Yılın Otomobili Ödülleri Kazananları Belli Oldu! Dünyada Yılın Otomobili ödülünün kazanan araçları belli oldu. İşte 2021 yılının ödüllü otomobilleri ve kazanan markalar.\\n   Tesla Autopilot Sistemi Yeni Bir Kaza İle Gündemde Tesla Autopilot Sistemi Yeni Bir Kaza İle Gündemde. Geçtiğimiz günlerde Model S ile sürüş gerçekleştirilen bir sürücü kaza yaptı ve alev alan\\n   Huawei Otomotiv Sektörüne İlk Adımı Attı. İşte Seres SF5! Huawei, Şangay Otomobil Fuarı’nda sektöre ilk adımı attı. Firma, kendi adıyla satılacak olan ilk otomobil Seres SF5’i tanıttı. SF5’e yakından bakalım.\\n    Birlikte Büyüyoruz Tümünü Gör  İlginiz sayesinde aracımı sizin aracılığınızla sattım çok teşekkür eder iyi çalışmalar dilerim Osman Kayıkçı    Müşteri hizmetlerinizin çözüm odaklı yaklaşımı ve sorunumu çözmekteki gayretinden ötürü çok teşekkür ederim. Faruk Baycan    Güncellemelerinizi gördükten sonra ilan vermek istedim. 5 dakikada ilan verdim, 1 saat içerisinde sattım. Daha ne olsun! Emrah Sayan      Otomobil Arazi, SUV, Pick-up Motosiklet Minivan & Panelvan Ticari Araç Kiralık Araçlar Hasarlı Araçlar Traktör Tarım & İş Makineleri Klasik Araçlar Elektrikli Araçlar ATV & UTV Karavan Engelli Aracı Modifiyeli Arabalar     Google Play’denindirebilirsiniz.App Store’danindirebilirsiniz.AppGallery'denindirebilirsiniz.  KurumsalHakkımızdaÜye hikayeleriYardım / İşlem RehberiGizlilik politikasıReklam verinİletişimZiyaretçi Aydınlatma MetniKişisel verilerin korunması kanunu hakkında bilgilendirmeSatılık ArabaSahibindenŞehirSıfır Km Fiyata GöreSatılık Alfa RomeoSatılık AudiSatılık BMWSatılık CitroenSatılık DaciaSatılık FiatSatılık FordSatılık HondaSatılık HyundaiSatılık KiaSatılık MazdaSatılık MercedesSatılık NissanSatılık OpelSatılık PeugeotSatılık RenaultSahibinden Satılık ArabaSatılık SkodaSatılık TofaşSatılık ToyotaSatılık VolkswagenSatılık VolvoSahibinden Alfa RomeoSahibinden AudiSahibinden BMWSahibinden CitroenSahibinden DaciaSahibinden FiatSahibinden FordSahibinden HondaSahibinden HyundaiSahibinden KiaSahibinden MazdaSahibinden MercedesSahibinden NissanSahibinden OpelSahibinden PeugeotSahibinden RenaultSahibinden SeatSahibinden SkodaSahibinden TofaşSahibinden ToyotaSahibinden VolkswagenSahibinden Volvo2.El Araba İstanbul2.El Araba Ankara2.El Araba İzmir2.El Araba Adana2.El Araba Diyarbakır2.El Araba Antalya2.El Araba Bursa2.El Araba Gaziantep2.El Araba Konya2.El Araba Erzurum2.El Araba Mersin2.El Araba Malatya2.El Araba Trabzon2.El Araba Batman2.El Araba Samsun2.El Araba Şanlıurfa2.El Araba Kayseri2.El Araba Van2.El Araba Denizli2.El Araba Balıkesir2.El Araba Manisa2.El Araba SakaryaSıfır KM Alfa RomeoSıfır KM AudiSıfır KM BMWSıfır KM CitroenSıfır KM DaciaSıfır KM FiatSıfır KM FordSıfır KM HondaSıfır KM HyundaiSıfır KM KiaSıfır KM MercedesSıfır KM MitsubishiSıfır KM NissanSıfır KM OpelSıfır KM PeugeotSıfır KM RenaultSıfır KM SeatSıfır KM SkodaSıfır KM ToyotaSıfır KM VolkswagenSıfır KM Volvo< 15.000 TL< 20.000 TL< 25.000 TL< 30.000 TL< 35.000 TL< 40.000 TL< 45.000 TL< 50.000 TL  Müşteri Hizmetleri0 850 759 90 00 © 2000-2021 arabam.comarabam.com  iştirakidir.Kariyer.netİsinolsun.comEmlakjetSigortam.netHangikredi.comNeredekal.comChemOrbisCimri.comSteelOrbis27.4.2021 02:30:17  Size daha iyi hizmet sunmak için çerezler kullanıyoruz. arabam.com'u kullanarak çerezlere izin veriyorsunuz.  Detaylı Bilgi X \\n\\n\\n   arabam-plusFill 1 \""
      ]
     },
     "execution_count": 3,
     "metadata": {},
     "output_type": "execute_result"
    }
   ],
   "source": [
    "soup.text"
   ]
  },
  {
   "cell_type": "code",
   "execution_count": 4,
   "metadata": {},
   "outputs": [],
   "source": [
    "container=soup.findAll(\"div\", {\"class\":\"showcase row\"})"
   ]
  },
  {
   "cell_type": "code",
   "execution_count": 5,
   "metadata": {
    "collapsed": true
   },
   "outputs": [
    {
     "data": {
      "text/plain": [
       "[<div class=\"showcase row\"><div class=\"col-xs-12\"><h2 class=\"homePageHeader tac bold\"> Vitrin <a class=\"all-showcase fr\" href=\"/ikinci-el?tag=Ana+Sayfa+Vitrin\" onclick=\"setDataLayer('Ana Sayfa','Vitrin','Tum Vitrin','gaEvent',true);\" target=\"_self\"><span class=\"font-default bold\">Tüm Vitrini Gör</span></a></h2></div><div class=\"col-xs-12\"><div class=\"row\"> <h2 class=\"dn\">2.EL ARABA VİTRİN İLANLARI</h2> <div class=\"row\"> <div class=\"col-lg-2 col-md-3 col-xs-6\"> <div class=\"listing-box-item should-hover banner-container\"><div class=\"logo-container volvo-container\"><img class=\"volvo-logo\" height=\"37\" src=\"https://arbimg1.mncdn.com/assets/dist/img/volvo-logo.png?v=20210422105527\" width=\"37\"/></div><ul class=\"volvo-text\"><li><i class=\"icon icon-arabam-check\"></i><p>7 yaş ve 150.00 km’ye kadar Volvo Selekt Garantisi ile seninle!</p></li><li><i class=\"icon icon-arabam-check\"></i><p>Volvo Selekt Garantisi ile hayalini kurduğun Volvo!</p></li></ul><a class=\"link-button volvo-button\" href=\"https://bit.ly/3fBBaTI\">Volvo Selekt İlanlarını Gör</a></div> </div> <div class=\"col-lg-2 col-md-3 col-xs-6\"> <div class=\"listing-box-item should-hover banner-container\"><div class=\"logo-container\"><img height=\"48\" src=\"https://arbimg1.mncdn.com/assets/dist/img/home/r2.svg?v=20210422105527\" width=\"163\"/></div><ul><li><i class=\"icon icon-arabam-check\"></i><p>2.000 km ya da 1 ay sonra ücretsiz kontrol</p></li><li><i class=\"icon icon-arabam-check\"></i><p>Deneme sürüşü imkanı</p></li><li><i class=\"icon icon-arabam-check\"></i><p>Bürokrasiye yer yok!</p></li><li><i class=\"icon icon-arabam-check\"></i><p>Estetik hizmeti</p></li></ul><a class=\"link-button\" href=\"/ikinci-el?renault2=true\">Tüm İlanları Görüntüle</a></div> </div> <div class=\"col-lg-2 col-md-3 col-xs-6\"> <div class=\"listing-box-item should-hover oncelikli\"><div class=\"inner-container\"><div class=\"hover-container\"><a href=\"/ilan/galeriden-satilik-toyota-corolla-1-4-d-4d-premium/galeriden-toyota-corolla-1-4-d-4d-premium-2015-model-balikesir/16510650\"><div class=\"image-container\"> <img alt=\"Galeriden Toyota Corolla 1.4 D-4D Premium 2015 Model Balıkesir\" class=\"mw100 w100\" crossorigin=\"anonymous\" data-src=\"https://arbstorage.mncdn.com/ilanfotograflari/2021/01/28/16510650/d10d277a-75ac-4f6d-8ef5-2285bbb4c440_image_for_silan_16510650_160x120.jpg\" height=\"120\" src=\"https://arbstorage.mncdn.com/ilanfotograflari/2021/01/28/16510650/d10d277a-75ac-4f6d-8ef5-2285bbb4c440_image_for_silan_16510650_160x120.jpg\" width=\"160\"/></div></a></div><div class=\"content-container\"><a href=\"/ilan/galeriden-satilik-toyota-corolla-1-4-d-4d-premium/galeriden-toyota-corolla-1-4-d-4d-premium-2015-model-balikesir/16510650\" target=\"_self\"><div class=\"df df-jcsbetween\"><p class=\"model-city\">Balıkesir</p><p class=\"model-year\">2015</p></div><h4 class=\"model-name\"> Toyota Corolla 1.4 D-4D Premium </h4><div class=\"price-and-icon-wrapper df df-jcsbetween\"> <div class=\"price\">179.000 TL</div> </div></a></div> </div></div> </div> <div class=\"col-lg-2 col-md-3 col-xs-6\"> <div class=\"listing-box-item should-hover oncelikli\"><div class=\"inner-container\"><div class=\"hover-container\"><a href=\"/ilan/galeriden-satilik-volkswagen-golf-1-6-tdi-bluemotion-comfortline/2017-trafik-cikisli-hatasiz-boyasiz-vw-golf-7-dizel-otomatik/15820342\"><div class=\"image-container\"> <img alt=\"2017 TRAFİK ÇIKIŞLI HATASIZ BOYASIZ VW GOLF 7 DİZEL OTOMATİK\" class=\"mw100 w100\" crossorigin=\"anonymous\" data-src=\"https://arbstorage.mncdn.com/ilanfotograflari/2020/10/26/15820342/a0e325de-d6e2-4e78-b5d2-023819936056_image_for_silan_15820342_160x120.jpg\" height=\"120\" src=\"https://arbstorage.mncdn.com/ilanfotograflari/2020/10/26/15820342/a0e325de-d6e2-4e78-b5d2-023819936056_image_for_silan_15820342_160x120.jpg\" width=\"160\"/></div></a></div><div class=\"content-container\"><a href=\"/ilan/galeriden-satilik-volkswagen-golf-1-6-tdi-bluemotion-comfortline/2017-trafik-cikisli-hatasiz-boyasiz-vw-golf-7-dizel-otomatik/15820342\" target=\"_self\"><div class=\"df df-jcsbetween\"><p class=\"model-city\">Antalya</p><p class=\"model-year\">2016</p></div><h4 class=\"model-name\"> Volkswagen Golf 1.6 TDi BlueMotio<i>...</i> </h4><div class=\"price-and-icon-wrapper df df-jcsbetween\"> <div class=\"price\">225.500 TL</div> </div></a></div> </div></div> </div> <div class=\"col-lg-2 col-md-3 col-xs-6\"> <div class=\"listing-box-item should-hover\"><div class=\"inner-container\"><div class=\"hover-container\"><a href=\"/ilan/galeriden-satilik-volvo-v40-1-5-t3-inscription/kamer-den-2018-volvo-v40-1-5-t3-inscription-otm/16940995\"><div class=\"image-container\"> <img alt=\"KAMER DEN 2018 VOLVO V40 1.5 T3 INSCRİPTİON OTM.\" class=\"mw100 w100\" crossorigin=\"anonymous\" data-src=\"https://arbstorage.mncdn.com/ilanfotograflari/2021/02/08/16940995/131aa6a8-3496-4c04-a40b-74cdae464476_image_for_silan_16940995_160x120.jpg\" height=\"120\" src=\"https://arbstorage.mncdn.com/ilanfotograflari/2021/02/08/16940995/131aa6a8-3496-4c04-a40b-74cdae464476_image_for_silan_16940995_160x120.jpg\" width=\"160\"/></div></a></div><div class=\"content-container\"><a href=\"/ilan/galeriden-satilik-volvo-v40-1-5-t3-inscription/kamer-den-2018-volvo-v40-1-5-t3-inscription-otm/16940995\" target=\"_self\"><div class=\"df df-jcsbetween\"><p class=\"model-city\">Samsun</p><p class=\"model-year\">2018</p></div><h4 class=\"model-name\"> Volvo V40 1.5 T3 Inscription </h4><div class=\"price-and-icon-wrapper df df-jcsbetween\"> <div class=\"price\">308.000 TL</div> </div></a></div> </div></div> </div> <div class=\"col-lg-2 col-md-3 col-xs-6\"> <div class=\"listing-box-item should-hover oncelikli\"><div class=\"inner-container\"><div class=\"hover-container\"><a href=\"/ilan/galeriden-satilik-ford-mondeo-2-0-glx/ford-mondeo-2-0-glx-degisensiz-otomatik/16161505\"><div class=\"image-container\"> <img alt=\"FORD MONDEO 2.0 GLX DEĞİŞENSİZ OTOMATİK\" class=\"mw100 w100\" crossorigin=\"anonymous\" data-src=\"https://arbstorage.mncdn.com/ilanfotograflari/2020/12/09/16161505/be6a8889-8b00-4cb7-8b6b-500f70415162_image_for_silan_16161505_160x120.jpg\" height=\"120\" src=\"https://arbstorage.mncdn.com/ilanfotograflari/2020/12/09/16161505/be6a8889-8b00-4cb7-8b6b-500f70415162_image_for_silan_16161505_160x120.jpg\" width=\"160\"/></div></a></div><div class=\"content-container\"><a href=\"/ilan/galeriden-satilik-ford-mondeo-2-0-glx/ford-mondeo-2-0-glx-degisensiz-otomatik/16161505\" target=\"_self\"><div class=\"df df-jcsbetween\"><p class=\"model-city\">İzmir</p><p class=\"model-year\">1997</p></div><h4 class=\"model-name\"> Ford Mondeo 2.0 GLX </h4><div class=\"price-and-icon-wrapper df df-jcsbetween\"> <div class=\"price\">46.500 TL</div> </div></a></div> </div></div> </div> <div class=\"col-lg-2 col-md-3 col-xs-6\"> <div class=\"listing-box-item should-hover oncelikli\"><div class=\"inner-container\"><div class=\"hover-container\"><a href=\"/ilan/galeriden-satilik-hyundai-accent-blue-1-6-crdi-biz/burdur-kardesler-otomotiv-den-hyundai-accent-blue-128-ps/15900736\"><div class=\"image-container\"> <img alt=\"BURDUR KARDEŞLER OTOMOTİV'DEN HYUNDAI ACCENT BLUE 128 PS\" class=\"mw100 w100\" crossorigin=\"anonymous\" data-src=\"https://arbstorage.mncdn.com/ilanfotograflari/2020/11/05/15900736/9c148d23-7697-40b0-802e-317398512b48_image_for_silan_15900736_160x120.jpg\" height=\"120\" src=\"https://arbstorage.mncdn.com/ilanfotograflari/2020/11/05/15900736/9c148d23-7697-40b0-802e-317398512b48_image_for_silan_15900736_160x120.jpg\" width=\"160\"/></div></a></div><div class=\"content-container\"><a href=\"/ilan/galeriden-satilik-hyundai-accent-blue-1-6-crdi-biz/burdur-kardesler-otomotiv-den-hyundai-accent-blue-128-ps/15900736\" target=\"_self\"><div class=\"df df-jcsbetween\"><p class=\"model-city\">Burdur</p><p class=\"model-year\">2012</p></div><h4 class=\"model-name\"> Hyundai Accent Blue 1.6 CRDI Biz </h4><div class=\"price-and-icon-wrapper df df-jcsbetween\"> <div class=\"price\">117.000 TL</div> </div></a></div> </div></div> </div> <div class=\"col-lg-2 col-md-3 col-xs-6\"> <div class=\"listing-box-item should-hover oncelikli\"><div class=\"inner-container\"><div class=\"hover-container\"><a href=\"/ilan/galeriden-satilik-renault-clio-1-5-dci-authentique/2008-renault-clio-3-77-000-tl/17049419\"><div class=\"image-container\"> <img alt=\"2008 RENAULT CLİO 3 77.000 TL\" class=\"mw100 w100\" crossorigin=\"anonymous\" data-src=\"https://arbstorage.mncdn.com/ilanfotograflari/2021/02/25/17049419/454153b4-eaae-436d-af64-fa1d1965c882_image_for_silan_17049419_160x120.jpg\" height=\"120\" src=\"https://arbstorage.mncdn.com/ilanfotograflari/2021/02/25/17049419/454153b4-eaae-436d-af64-fa1d1965c882_image_for_silan_17049419_160x120.jpg\" width=\"160\"/></div></a></div><div class=\"content-container\"><a href=\"/ilan/galeriden-satilik-renault-clio-1-5-dci-authentique/2008-renault-clio-3-77-000-tl/17049419\" target=\"_self\"><div class=\"df df-jcsbetween\"><p class=\"model-city\">Kocaeli</p><p class=\"model-year\">2008</p></div><h4 class=\"model-name\"> Renault Clio 1.5 dCi Authentique </h4><div class=\"price-and-icon-wrapper df df-jcsbetween\"> <div class=\"price\">77.000 TL</div> </div></a></div> </div></div> </div> <div class=\"col-lg-2 col-md-3 col-xs-6\"> <div class=\"listing-box-item should-hover oncelikli\"><div class=\"inner-container\"><div class=\"hover-container\"><a href=\"/ilan/galeriden-satilik-fiat-doblo-combi-1-6-multijet-premio/asi-auto-dan-2013-1-6-piremio-105hp-6-vites-ful-aksesuarli-160000kmde/17354227\"><div class=\"image-container\"> <img alt=\"ASİ AUTO DAN 2013 1.6 PİREMİO 105HP 6 VİTES FUL AKSESUARLI 160000KMDE\" class=\"mw100 w100\" crossorigin=\"anonymous\" data-src=\"https://arbstorage.mncdn.com/ilanfotograflari/2021/04/13/17354227/e71c446c-6206-4b2c-9f18-e400d8721ef2_image_for_silan_17354227_160x120.jpg\" height=\"120\" src=\"https://arbstorage.mncdn.com/ilanfotograflari/2021/04/13/17354227/e71c446c-6206-4b2c-9f18-e400d8721ef2_image_for_silan_17354227_160x120.jpg\" width=\"160\"/></div></a></div><div class=\"content-container\"><a href=\"/ilan/galeriden-satilik-fiat-doblo-combi-1-6-multijet-premio/asi-auto-dan-2013-1-6-piremio-105hp-6-vites-ful-aksesuarli-160000kmde/17354227\" target=\"_self\"><div class=\"df df-jcsbetween\"><p class=\"model-city\">Hatay</p><p class=\"model-year\">2013</p></div><h4 class=\"model-name\"> Fiat Doblo Combi 1.6 Multijet Pre<i>...</i> </h4><div class=\"price-and-icon-wrapper df df-jcsbetween\"> <div class=\"price\">99.000 TL</div> </div></a></div> </div></div> </div> <div class=\"col-lg-2 col-md-3 col-xs-6\"> <div class=\"listing-box-item should-hover oncelikli\"><div class=\"inner-container\"><div class=\"hover-container\"><a href=\"/ilan/galeriden-satilik-kuba-cita-100r-gold/klasikten-sasmayanlara-kuba-cita-100r-gold-motokit-ten-9-taksit/17362357\"><div class=\"image-container\"> <img alt=\"KLASİKTEN ŞAŞMAYANLARA KUBA ÇİTA 100R GOLD MOTOKİT'TEN 9 TAKSİT\" class=\"mw100 w100\" crossorigin=\"anonymous\" data-src=\"https://arbstorage.mncdn.com/ilanfotograflari/2021/04/14/17362357/ede680b7-4cc8-4534-960e-a777279c1b21_image_for_silan_17362357_160x120.jpg\" height=\"120\" src=\"https://arbstorage.mncdn.com/ilanfotograflari/2021/04/14/17362357/ede680b7-4cc8-4534-960e-a777279c1b21_image_for_silan_17362357_160x120.jpg\" width=\"160\"/></div></a></div><div class=\"content-container\"><a href=\"/ilan/galeriden-satilik-kuba-cita-100r-gold/klasikten-sasmayanlara-kuba-cita-100r-gold-motokit-ten-9-taksit/17362357\" target=\"_self\"><div class=\"df df-jcsbetween\"><p class=\"model-city\">İstanbul</p><p class=\"model-year\">2021</p></div><h4 class=\"model-name\"> Kuba Çita 100R Gold </h4><div class=\"price-and-icon-wrapper df df-jcsbetween\"> <div class=\"price\">9.697 TL</div> </div></a></div> </div></div> </div> <div class=\"col-lg-2 col-md-3 col-xs-6\"> <div class=\"listing-box-item should-hover\"><div class=\"inner-container\"><div class=\"hover-container\"><a href=\"/ilan/galeriden-satilik-volkswagen-golf-1-6-pacific/tr-de-tek-2003-golf-orjinal-94-bin-km-de-degisensiz-1-5-parca-boyali/17411326\"><div class=\"image-container\"> <img alt=\"TR'de Tek 2003 Golf Orjinal 94 Bin Km'de DEĞİŞENSİZ-1,5 Parça Boyalı\" class=\"mw100 w100\" crossorigin=\"anonymous\" data-src=\"https://arbstorage.mncdn.com/ilanfotograflari/2021/04/22/17411326/c6b61bf7-6585-466f-9fa2-1a4a68b043c4_image_for_silan_17411326_160x120.jpg\" height=\"120\" src=\"https://arbstorage.mncdn.com/ilanfotograflari/2021/04/22/17411326/c6b61bf7-6585-466f-9fa2-1a4a68b043c4_image_for_silan_17411326_160x120.jpg\" width=\"160\"/></div></a></div><div class=\"content-container\"><a href=\"/ilan/galeriden-satilik-volkswagen-golf-1-6-pacific/tr-de-tek-2003-golf-orjinal-94-bin-km-de-degisensiz-1-5-parca-boyali/17411326\" target=\"_self\"><div class=\"df df-jcsbetween\"><p class=\"model-city\">Karabük</p><p class=\"model-year\">2003</p></div><h4 class=\"model-name\"> Volkswagen Golf 1.6 Pacific </h4><div class=\"price-and-icon-wrapper df df-jcsbetween\"> <div class=\"price\">115.000 TL</div> </div></a></div> </div></div> </div> <div class=\"col-lg-2 col-md-3 col-xs-6\"> <div class=\"listing-box-item should-hover oncelikli\"><div class=\"inner-container\"><div class=\"hover-container\"><a href=\"/ilan/galeriden-satilik-seat-leon-1-6-tdi-style/2018-seat-leon-1-6-tdi-dsg-otomatik-78000-km-star-stop/17308922\"><div class=\"image-container\"> <img alt=\"2018 Seat Leon 1.6 TDI DSG OTOMATİK 78000 Km STAR&amp;STOP\" class=\"mw100 w100\" crossorigin=\"anonymous\" data-src=\"https://arbstorage.mncdn.com/ilanfotograflari/2021/04/05/17308922/201f177f-a04b-49c2-98c1-f291fd937659_image_for_silan_17308922_160x120.jpg\" height=\"120\" src=\"https://arbstorage.mncdn.com/ilanfotograflari/2021/04/05/17308922/201f177f-a04b-49c2-98c1-f291fd937659_image_for_silan_17308922_160x120.jpg\" width=\"160\"/></div></a></div><div class=\"content-container\"><a href=\"/ilan/galeriden-satilik-seat-leon-1-6-tdi-style/2018-seat-leon-1-6-tdi-dsg-otomatik-78000-km-star-stop/17308922\" target=\"_self\"><div class=\"df df-jcsbetween\"><p class=\"model-city\">Samsun</p><p class=\"model-year\">2018</p></div><h4 class=\"model-name\"> Seat Leon 1.6 TDI Style </h4><div class=\"price-and-icon-wrapper df df-jcsbetween\"> <div class=\"price\">198.500 TL</div> </div></a></div> </div></div> </div> <div class=\"col-lg-2 col-md-3 col-xs-6\"> <div class=\"listing-box-item should-hover\"><div class=\"inner-container\"><div class=\"hover-container\"><a href=\"/ilan/galeriden-satilik-mercedes-benz-c-180-amg-9g-tronic/2018-model-mercedes-c180-amg-coupe-1-6-amg-9g-tronic-45-000-km/17276426\"><div class=\"image-container\"> <img alt=\"2018 MODEL MERCEDES C180 AMG COUPE 1.6 AMG 9G- TRONİC 45,000 KM\" class=\"mw100 w100\" crossorigin=\"anonymous\" data-src=\"https://arbstorage.mncdn.com/ilanfotograflari/2021/03/31/17276426/980135ff-5f8b-4e33-a0d7-dd6417813fc9_image_for_silan_17276426_160x120.jpg\" height=\"120\" src=\"https://arbstorage.mncdn.com/ilanfotograflari/2021/03/31/17276426/980135ff-5f8b-4e33-a0d7-dd6417813fc9_image_for_silan_17276426_160x120.jpg\" width=\"160\"/></div></a></div><div class=\"content-container\"><a href=\"/ilan/galeriden-satilik-mercedes-benz-c-180-amg-9g-tronic/2018-model-mercedes-c180-amg-coupe-1-6-amg-9g-tronic-45-000-km/17276426\" target=\"_self\"><div class=\"df df-jcsbetween\"><p class=\"model-city\">Ankara</p><p class=\"model-year\">2018</p></div><h4 class=\"model-name\"> Mercedes - Benz C 180 AMG 9G-Tron<i>...</i> </h4><div class=\"price-and-icon-wrapper df df-jcsbetween\"> <div class=\"price\">557.500 TL</div> </div></a></div> </div></div> </div> <div class=\"col-lg-2 col-md-3 col-xs-6\"> <div class=\"listing-box-item should-hover turbo oncelikli\"><div class=\"inner-container\"><div class=\"hover-container\"><a href=\"/ilan/sahibinden-satilik-audi-a3-sedan-1-5-tfsi-sport-line/emsalsiz-sigara-icilmemis-kapali-garaj-araci-97-km-audi-a3-sedan-35-1-5-tfsi-sport-prestige-paket/16429806\"><div class=\"image-container\"> <img alt=\"EMSALSİZ Sigara içilmemiş Kapalı Garaj Aracı 97 KM Audi A3 Sedan 35 1.5 TFSI Sport + Prestige Paket +  Extra Opsiyonlu Full 2020\" class=\"mw100 w100\" crossorigin=\"anonymous\" data-src=\"https://arbstorage.mncdn.com/ilanfotograflari/2021/01/16/16429806/0fc9fa78-94e0-43bf-a00d-ed4fa81446b1_image_for_silan_16429806_160x120.jpg\" height=\"120\" src=\"https://arbstorage.mncdn.com/ilanfotograflari/2021/01/16/16429806/0fc9fa78-94e0-43bf-a00d-ed4fa81446b1_image_for_silan_16429806_160x120.jpg\" width=\"160\"/></div></a></div><div class=\"content-container\"><a href=\"/ilan/sahibinden-satilik-audi-a3-sedan-1-5-tfsi-sport-line/emsalsiz-sigara-icilmemis-kapali-garaj-araci-97-km-audi-a3-sedan-35-1-5-tfsi-sport-prestige-paket/16429806\" target=\"_self\"><div class=\"df df-jcsbetween\"><p class=\"model-city\">İstanbul</p><p class=\"model-year\">2020</p></div><h4 class=\"model-name\"> Audi A3 Sedan 1.5 TFSI Sport Line </h4><div class=\"price-and-icon-wrapper df df-jcsbetween\"> <div class=\"price\">415.000 TL</div> </div></a></div> </div></div> </div> <div class=\"col-lg-2 col-md-3 col-xs-6\"> <div class=\"listing-box-item should-hover\"><div class=\"inner-container\"><div class=\"hover-container\"><a href=\"/ilan/sahibinden-satilik-audi-a5-sportback-1-4-tfsi/sahibinden-audi-a5-sportback-1-4-tfsi-2018-model/17423247\"><div class=\"image-container\"> <img alt=\"Sahibinden Audi A5 Sportback 1.4 TFSI 2018 Model \" class=\"mw100 w100\" crossorigin=\"anonymous\" data-src=\"https://arbstorage.mncdn.com/ilanfotograflari/2021/04/24/17423247/0d4b1dfc-e06d-4aef-8bee-896118331a01_image_for_silan_17423247_160x120.jpg\" height=\"120\" src=\"https://arbstorage.mncdn.com/ilanfotograflari/2021/04/24/17423247/0d4b1dfc-e06d-4aef-8bee-896118331a01_image_for_silan_17423247_160x120.jpg\" width=\"160\"/></div></a></div><div class=\"content-container\"><a href=\"/ilan/sahibinden-satilik-audi-a5-sportback-1-4-tfsi/sahibinden-audi-a5-sportback-1-4-tfsi-2018-model/17423247\" target=\"_self\"><div class=\"df df-jcsbetween\"><p class=\"model-city\">İstanbul</p><p class=\"model-year\">2018</p></div><h4 class=\"model-name\"> Audi A5 Sportback 1.4 TFSI </h4><div class=\"price-and-icon-wrapper df df-jcsbetween\"> <div class=\"price\">645.000 TL</div> </div></a></div> </div></div> </div> <div class=\"col-lg-2 col-md-3 col-xs-6\"> <div class=\"listing-box-item should-hover oncelikli\"><div class=\"inner-container\"><div class=\"hover-container\"><a href=\"/ilan/galeriden-satilik-bmw-3-serisi-320d-xdrive-premium-line/2018-model-bmw-320d-xdrive-190-bg-premium-line-85-000-km-de/17244799\"><div class=\"image-container\"> <img alt=\"2018 MODEL BMW 320d xDRİVE 190 BG PREMİUM LİNE 85,000 KM'DE\" class=\"mw100 w100\" crossorigin=\"anonymous\" data-src=\"https://arbstorage.mncdn.com/ilanfotograflari/2021/03/26/17244799/69664111-0d83-40ac-8275-4283e4160c93_image_for_silan_17244799_160x120.jpg\" height=\"120\" src=\"https://arbstorage.mncdn.com/ilanfotograflari/2021/03/26/17244799/69664111-0d83-40ac-8275-4283e4160c93_image_for_silan_17244799_160x120.jpg\" width=\"160\"/></div></a></div><div class=\"content-container\"><a href=\"/ilan/galeriden-satilik-bmw-3-serisi-320d-xdrive-premium-line/2018-model-bmw-320d-xdrive-190-bg-premium-line-85-000-km-de/17244799\" target=\"_self\"><div class=\"df df-jcsbetween\"><p class=\"model-city\">Ankara</p><p class=\"model-year\">2018</p></div><h4 class=\"model-name\"> BMW 3 Serisi 320d xDrive Premium <i>...</i> </h4><div class=\"price-and-icon-wrapper df df-jcsbetween\"> <div class=\"price\">447.500 TL</div> </div></a></div> </div></div> </div> <div class=\"col-lg-2 col-md-3 col-xs-6\"> <div class=\"listing-box-item should-hover\"><div class=\"inner-container\"><div class=\"hover-container\"><a href=\"/ilan/galeriden-satilik-jeep-grand-cherokee-3-0-crd-limited/tramersiz-2012-jeep-grand-cherokee-3-0-crd-limited/17229697\"><div class=\"image-container\"> <img alt=\"TRAMERSİZ 2012 JEEP GRAND CHEROKEE 3.0 CRD LIMITED\" class=\"mw100 w100\" crossorigin=\"anonymous\" data-src=\"https://arbstorage.mncdn.com/ilanfotograflari/2021/03/24/17229697/5eb71b84-7427-4679-b8b9-131140fa2ec9_image_for_silan_17229697_160x120.jpg\" height=\"120\" src=\"https://arbstorage.mncdn.com/ilanfotograflari/2021/03/24/17229697/5eb71b84-7427-4679-b8b9-131140fa2ec9_image_for_silan_17229697_160x120.jpg\" width=\"160\"/></div></a></div><div class=\"content-container\"><a href=\"/ilan/galeriden-satilik-jeep-grand-cherokee-3-0-crd-limited/tramersiz-2012-jeep-grand-cherokee-3-0-crd-limited/17229697\" target=\"_self\"><div class=\"df df-jcsbetween\"><p class=\"model-city\">Adana</p><p class=\"model-year\">2012</p></div><h4 class=\"model-name\"> Jeep Grand Cherokee 3.0 CRD Limit<i>...</i> </h4><div class=\"price-and-icon-wrapper df df-jcsbetween\"> <div class=\"price\">510.000 TL</div> </div></a></div> </div></div> </div> <div class=\"col-lg-2 col-md-3 col-xs-6\"> <div class=\"listing-box-item should-hover\"><div class=\"inner-container\"><div class=\"hover-container\"><a href=\"/ilan/galeriden-satilik-renault-kangoo-1-9-d/atom-otomotivden-2005-1-9-dizel-kangoo-sifir-vizeli-4-kisilik/16519480\"><div class=\"image-container\"> <img alt=\"ATOM OTOMOTİVDEN 2005 1.9 DIZEL KANGOO SIFIR VİZELİ 4 KİŞİLİK\" class=\"mw100 w100\" crossorigin=\"anonymous\" data-src=\"https://arbstorage.mncdn.com/ilanfotograflari/2021/01/29/16519480/605e70ff-5576-45b9-bd20-88fa3adf36d2_image_for_silan_16519480_160x120.jpg\" height=\"120\" src=\"https://arbstorage.mncdn.com/ilanfotograflari/2021/01/29/16519480/605e70ff-5576-45b9-bd20-88fa3adf36d2_image_for_silan_16519480_160x120.jpg\" width=\"160\"/></div></a></div><div class=\"content-container\"><a href=\"/ilan/galeriden-satilik-renault-kangoo-1-9-d/atom-otomotivden-2005-1-9-dizel-kangoo-sifir-vizeli-4-kisilik/16519480\" target=\"_self\"><div class=\"df df-jcsbetween\"><p class=\"model-city\">Muğla</p><p class=\"model-year\">2005</p></div><h4 class=\"model-name\"> Renault Kangoo 1.9 D </h4><div class=\"price-and-icon-wrapper df df-jcsbetween\"> <div class=\"price\">37.500 TL</div> </div></a></div> </div></div> </div> </div> <script> advertCollection = [{\"advertId\":16510650,\"advertUserId\":5349080},{\"advertId\":15820342,\"advertUserId\":13264},{\"advertId\":16940995,\"advertUserId\":6670},{\"advertId\":16161505,\"advertUserId\":5206},{\"advertId\":15900736,\"advertUserId\":6072862},{\"advertId\":17049419,\"advertUserId\":2290908},{\"advertId\":17354227,\"advertUserId\":6578513},{\"advertId\":17362357,\"advertUserId\":5696628},{\"advertId\":17411326,\"advertUserId\":6805264},{\"advertId\":17308922,\"advertUserId\":5717097},{\"advertId\":17276426,\"advertUserId\":12906},{\"advertId\":16429806,\"advertUserId\":6237289},{\"advertId\":17423247,\"advertUserId\":6810073},{\"advertId\":17244799,\"advertUserId\":12906},{\"advertId\":17229697,\"advertUserId\":6741990},{\"advertId\":16519480,\"advertUserId\":10799},{\"advertId\":17360004,\"advertUserId\":6578513},{\"advertId\":17266883,\"advertUserId\":3774002},{\"advertId\":17321952,\"advertUserId\":5696628},{\"advertId\":17420645,\"advertUserId\":12896},{\"advertId\":17278801,\"advertUserId\":6378564},{\"advertId\":17414138,\"advertUserId\":5142684},{\"advertId\":17315544,\"advertUserId\":12906},{\"advertId\":16033480,\"advertUserId\":6736750}]; if (!!self.adverts && self.adverts.length > 0) { for (var i = 0; i < self.adverts.length; i++) { var advert = { advertId: self.adverts[i].productId, advertUserId: self.adverts.params.UserId }; advertCollection.push(advert); } } </script> <h3 class=\"container-fluid homePageHeader dn mt20\" id=\"collect-header\">Sizin İçin Önerilenler</h3><div class=\"dn\" id=\"collect-suggestion-wrapper\"></div></div></div></div>]"
      ]
     },
     "execution_count": 5,
     "metadata": {},
     "output_type": "execute_result"
    }
   ],
   "source": [
    "container"
   ]
  },
  {
   "cell_type": "code",
   "execution_count": 6,
   "metadata": {},
   "outputs": [],
   "source": [
    "fiyat=soup.findAll(\"div\",{\"class\":\"price\"})\n",
    "sehir=soup.findAll(\"p\",{\"class\":\"model-city\"})\n",
    "yil=soup.findAll(\"p\",{\"class\":\"model-year\"})\n",
    "model=soup.findAll(\"h4\",{\"class\":\"model-name\"})\n"
   ]
  },
  {
   "cell_type": "code",
   "execution_count": 7,
   "metadata": {},
   "outputs": [],
   "source": [
    "f=[]\n",
    "s=[]\n",
    "y=[]\n",
    "m=[]\n",
    "columns=[\"model\", \"city\", \"year\", \"price\"]\n",
    "for (m1,s1,y1,f1) in zip(model, sehir, yil, fiyat):\n",
    "    m.append(m1.text)\n",
    "    s.append(s1.text)\n",
    "    y.append(y1.text)\n",
    "    f.append(f1.text)\n"
   ]
  },
  {
   "cell_type": "code",
   "execution_count": 8,
   "metadata": {},
   "outputs": [
    {
     "data": {
      "text/html": [
       "<div>\n",
       "<style scoped>\n",
       "    .dataframe tbody tr th:only-of-type {\n",
       "        vertical-align: middle;\n",
       "    }\n",
       "\n",
       "    .dataframe tbody tr th {\n",
       "        vertical-align: top;\n",
       "    }\n",
       "\n",
       "    .dataframe thead th {\n",
       "        text-align: right;\n",
       "    }\n",
       "</style>\n",
       "<table border=\"1\" class=\"dataframe\">\n",
       "  <thead>\n",
       "    <tr style=\"text-align: right;\">\n",
       "      <th></th>\n",
       "      <th>Model</th>\n",
       "      <th>City</th>\n",
       "      <th>Year</th>\n",
       "      <th>Price</th>\n",
       "    </tr>\n",
       "  </thead>\n",
       "  <tbody>\n",
       "    <tr>\n",
       "      <th>0</th>\n",
       "      <td>Toyota Corolla 1.4 D-4D Premium</td>\n",
       "      <td>Balıkesir</td>\n",
       "      <td>2015</td>\n",
       "      <td>179.000 TL</td>\n",
       "    </tr>\n",
       "    <tr>\n",
       "      <th>1</th>\n",
       "      <td>Volkswagen Golf 1.6 TDi BlueMotio...</td>\n",
       "      <td>Antalya</td>\n",
       "      <td>2016</td>\n",
       "      <td>225.500 TL</td>\n",
       "    </tr>\n",
       "    <tr>\n",
       "      <th>2</th>\n",
       "      <td>Volvo V40 1.5 T3 Inscription</td>\n",
       "      <td>Samsun</td>\n",
       "      <td>2018</td>\n",
       "      <td>308.000 TL</td>\n",
       "    </tr>\n",
       "    <tr>\n",
       "      <th>3</th>\n",
       "      <td>Ford Mondeo 2.0 GLX</td>\n",
       "      <td>İzmir</td>\n",
       "      <td>1997</td>\n",
       "      <td>46.500 TL</td>\n",
       "    </tr>\n",
       "    <tr>\n",
       "      <th>4</th>\n",
       "      <td>Hyundai Accent Blue 1.6 CRDI Biz</td>\n",
       "      <td>Burdur</td>\n",
       "      <td>2012</td>\n",
       "      <td>117.000 TL</td>\n",
       "    </tr>\n",
       "    <tr>\n",
       "      <th>5</th>\n",
       "      <td>Renault Clio 1.5 dCi Authentique</td>\n",
       "      <td>Kocaeli</td>\n",
       "      <td>2008</td>\n",
       "      <td>77.000 TL</td>\n",
       "    </tr>\n",
       "    <tr>\n",
       "      <th>6</th>\n",
       "      <td>Fiat Doblo Combi 1.6 Multijet Pre...</td>\n",
       "      <td>Hatay</td>\n",
       "      <td>2013</td>\n",
       "      <td>99.000 TL</td>\n",
       "    </tr>\n",
       "    <tr>\n",
       "      <th>7</th>\n",
       "      <td>Kuba Çita 100R Gold</td>\n",
       "      <td>İstanbul</td>\n",
       "      <td>2021</td>\n",
       "      <td>9.697 TL</td>\n",
       "    </tr>\n",
       "    <tr>\n",
       "      <th>8</th>\n",
       "      <td>Volkswagen Golf 1.6 Pacific</td>\n",
       "      <td>Karabük</td>\n",
       "      <td>2003</td>\n",
       "      <td>115.000 TL</td>\n",
       "    </tr>\n",
       "    <tr>\n",
       "      <th>9</th>\n",
       "      <td>Seat Leon 1.6 TDI Style</td>\n",
       "      <td>Samsun</td>\n",
       "      <td>2018</td>\n",
       "      <td>198.500 TL</td>\n",
       "    </tr>\n",
       "    <tr>\n",
       "      <th>10</th>\n",
       "      <td>Mercedes - Benz C 180 AMG 9G-Tron...</td>\n",
       "      <td>Ankara</td>\n",
       "      <td>2018</td>\n",
       "      <td>557.500 TL</td>\n",
       "    </tr>\n",
       "    <tr>\n",
       "      <th>11</th>\n",
       "      <td>Audi A3 Sedan 1.5 TFSI Sport Line</td>\n",
       "      <td>İstanbul</td>\n",
       "      <td>2020</td>\n",
       "      <td>415.000 TL</td>\n",
       "    </tr>\n",
       "    <tr>\n",
       "      <th>12</th>\n",
       "      <td>Audi A5 Sportback 1.4 TFSI</td>\n",
       "      <td>İstanbul</td>\n",
       "      <td>2018</td>\n",
       "      <td>645.000 TL</td>\n",
       "    </tr>\n",
       "    <tr>\n",
       "      <th>13</th>\n",
       "      <td>BMW 3 Serisi 320d xDrive Premium ...</td>\n",
       "      <td>Ankara</td>\n",
       "      <td>2018</td>\n",
       "      <td>447.500 TL</td>\n",
       "    </tr>\n",
       "    <tr>\n",
       "      <th>14</th>\n",
       "      <td>Jeep Grand Cherokee 3.0 CRD Limit...</td>\n",
       "      <td>Adana</td>\n",
       "      <td>2012</td>\n",
       "      <td>510.000 TL</td>\n",
       "    </tr>\n",
       "    <tr>\n",
       "      <th>15</th>\n",
       "      <td>Renault Kangoo 1.9 D</td>\n",
       "      <td>Muğla</td>\n",
       "      <td>2005</td>\n",
       "      <td>37.500 TL</td>\n",
       "    </tr>\n",
       "  </tbody>\n",
       "</table>\n",
       "</div>"
      ],
      "text/plain": [
       "                                     Model       City  Year       Price\n",
       "0         Toyota Corolla 1.4 D-4D Premium   Balıkesir  2015  179.000 TL\n",
       "1    Volkswagen Golf 1.6 TDi BlueMotio...     Antalya  2016  225.500 TL\n",
       "2            Volvo V40 1.5 T3 Inscription      Samsun  2018  308.000 TL\n",
       "3                     Ford Mondeo 2.0 GLX       İzmir  1997   46.500 TL\n",
       "4        Hyundai Accent Blue 1.6 CRDI Biz      Burdur  2012  117.000 TL\n",
       "5        Renault Clio 1.5 dCi Authentique     Kocaeli  2008   77.000 TL\n",
       "6    Fiat Doblo Combi 1.6 Multijet Pre...       Hatay  2013   99.000 TL\n",
       "7                     Kuba Çita 100R Gold    İstanbul  2021    9.697 TL\n",
       "8             Volkswagen Golf 1.6 Pacific     Karabük  2003  115.000 TL\n",
       "9                 Seat Leon 1.6 TDI Style      Samsun  2018  198.500 TL\n",
       "10   Mercedes - Benz C 180 AMG 9G-Tron...      Ankara  2018  557.500 TL\n",
       "11      Audi A3 Sedan 1.5 TFSI Sport Line    İstanbul  2020  415.000 TL\n",
       "12             Audi A5 Sportback 1.4 TFSI    İstanbul  2018  645.000 TL\n",
       "13   BMW 3 Serisi 320d xDrive Premium ...      Ankara  2018  447.500 TL\n",
       "14   Jeep Grand Cherokee 3.0 CRD Limit...       Adana  2012  510.000 TL\n",
       "15                   Renault Kangoo 1.9 D       Muğla  2005   37.500 TL"
      ]
     },
     "execution_count": 8,
     "metadata": {},
     "output_type": "execute_result"
    }
   ],
   "source": [
    "d={'Model':m, 'City':s, 'Year':y, 'Price':f}\n",
    "df=pd.DataFrame(d)\n",
    "df\n"
   ]
  },
  {
   "cell_type": "code",
   "execution_count": null,
   "metadata": {},
   "outputs": [],
   "source": []
  }
 ],
 "metadata": {
  "kernelspec": {
   "display_name": "Python 3",
   "language": "python",
   "name": "python3"
  },
  "language_info": {
   "codemirror_mode": {
    "name": "ipython",
    "version": 3
   },
   "file_extension": ".py",
   "mimetype": "text/x-python",
   "name": "python",
   "nbconvert_exporter": "python",
   "pygments_lexer": "ipython3",
   "version": "3.8.5"
  }
 },
 "nbformat": 4,
 "nbformat_minor": 4
}
